{
  "cells": [
    {
      "cell_type": "markdown",
      "metadata": {},
      "source": [
        "---\n",
        "title: \"Homework 4\"\n",
        "format: \n",
        "    html:\n",
        "        embed-resources: true\n",
        "        #importing extensions\n",
        "        __Name:__ Sabahat\n",
        "\n",
        "\n",
        "## Preparation\n"
      ],
      "id": "72581ad7"
    },
    {
      "cell_type": "code",
      "metadata": {},
      "source": [
        "import pandas as pd\n",
        "from sklearn.tree import DecisionTreeRegressor\n",
        "from sklearn.metrics import mean_squared_error\n",
        "from sklearn.model_selection import KFold\n",
        "import numpy as np\n",
        "import matplotlib.pyplot as plt\n",
        "from sklearn.tree import DecisionTreeRegressor, plot_tree"
      ],
      "id": "67372ab8",
      "execution_count": null,
      "outputs": []
    },
    {
      "cell_type": "markdown",
      "metadata": {},
      "source": [
        "1. Load the data file.\n",
        "#loading data file"
      ],
      "id": "1624bd55"
    },
    {
      "cell_type": "code",
      "metadata": {},
      "source": [
        "if __name__ == \"__main__\":\n",
        " # Specify the file path as a string\n",
        "\n",
        "   file_path = \"C:/Users/sabahat/Desktop/ML-Folder/Sabahat-PRGS-Intro-to-ML-2024/data/raw/Inequality_data_for_final.csv\"\n",
        "  \n",
        "# Function to load the data\n",
        "def load_data(file_path):\n",
        "    return pd.read_csv(file_path)"
      ],
      "id": "6855559a",
      "execution_count": null,
      "outputs": []
    },
    {
      "cell_type": "code",
      "metadata": {},
      "source": [
        "df = pd.read_csv(file_path)\n",
        "summary = df.describe()\n",
        "print(summary)\n",
        "# Initial count of observations\n",
        "initial_count = df.shape[0]\n",
        "\n",
        "# Remove rows with any missing values\n",
        "df_cleaned = df.dropna()\n",
        "\n",
        "# Final count of observations\n",
        "cleaned_count = df_cleaned.shape[0]\n",
        "\n",
        "# Calculate the number of removed observations\n",
        "removed_observations = initial_count - cleaned_count\n",
        "\n",
        "print(f\"Number of observations removed: {removed_observations}\")\n"
      ],
      "id": "fdb301e8",
      "execution_count": null,
      "outputs": []
    }
  ],
  "metadata": {
    "kernelspec": {
      "name": "python3",
      "language": "python",
      "display_name": "Python 3 (ipykernel)",
      "path": "C:\\Users\\sabahat\\AppData\\Local\\Programs\\Python\\Python312\\share\\jupyter\\kernels\\python3"
    }
  },
  "nbformat": 4,
  "nbformat_minor": 5
}